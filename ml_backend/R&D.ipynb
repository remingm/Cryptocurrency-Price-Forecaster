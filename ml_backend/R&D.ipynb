{
 "cells": [
  {
   "cell_type": "code",
   "execution_count": 252,
   "id": "78ff2e77-dcd5-4b32-b111-432fe5838e42",
   "metadata": {},
   "outputs": [
    {
     "name": "stdout",
     "output_type": "stream",
     "text": [
      "       UTC timestamp          open          high           low         close  \\\n",
      "count   7.200000e+02    720.000000    720.000000    720.000000    720.000000   \n",
      "mean    1.632710e+12  47275.102917  47512.128750  47044.588611  47290.734583   \n",
      "std     7.487654e+08   4474.176712   4473.832542   4489.514015   4487.327318   \n",
      "min     1.631416e+12  40499.900000  41051.100000  39579.000000  40499.900000   \n",
      "25%     1.632063e+12  43393.375000  43687.750000  43149.150000  43392.100000   \n",
      "50%     1.632710e+12  47198.250000  47401.000000  47001.500000  47214.350000   \n",
      "75%     1.633357e+12  48773.600000  48977.300000  48565.050000  48838.600000   \n",
      "max     1.634004e+12  57501.600000  57837.700000  57358.200000  57499.900000   \n",
      "\n",
      "            volume  \n",
      "count   720.000000  \n",
      "mean    124.471403  \n",
      "std     179.623526  \n",
      "min       8.418664  \n",
      "25%      45.444360  \n",
      "50%      77.098601  \n",
      "75%     142.256810  \n",
      "max    2619.579706  \n"
     ]
    },
    {
     "data": {
      "text/html": [
       "<div>\n",
       "<style scoped>\n",
       "    .dataframe tbody tr th:only-of-type {\n",
       "        vertical-align: middle;\n",
       "    }\n",
       "\n",
       "    .dataframe tbody tr th {\n",
       "        vertical-align: top;\n",
       "    }\n",
       "\n",
       "    .dataframe thead th {\n",
       "        text-align: right;\n",
       "    }\n",
       "</style>\n",
       "<table border=\"1\" class=\"dataframe\">\n",
       "  <thead>\n",
       "    <tr style=\"text-align: right;\">\n",
       "      <th></th>\n",
       "      <th>UTC timestamp</th>\n",
       "      <th>open</th>\n",
       "      <th>high</th>\n",
       "      <th>low</th>\n",
       "      <th>close</th>\n",
       "      <th>volume</th>\n",
       "    </tr>\n",
       "  </thead>\n",
       "  <tbody>\n",
       "    <tr>\n",
       "      <th>0</th>\n",
       "      <td>1631415600000</td>\n",
       "      <td>45299.0</td>\n",
       "      <td>45323.8</td>\n",
       "      <td>45226.3</td>\n",
       "      <td>45311.1</td>\n",
       "      <td>13.764573</td>\n",
       "    </tr>\n",
       "    <tr>\n",
       "      <th>1</th>\n",
       "      <td>1631419200000</td>\n",
       "      <td>45311.1</td>\n",
       "      <td>45489.8</td>\n",
       "      <td>45239.3</td>\n",
       "      <td>45342.4</td>\n",
       "      <td>20.250714</td>\n",
       "    </tr>\n",
       "    <tr>\n",
       "      <th>2</th>\n",
       "      <td>1631422800000</td>\n",
       "      <td>45343.3</td>\n",
       "      <td>45490.0</td>\n",
       "      <td>45248.4</td>\n",
       "      <td>45395.8</td>\n",
       "      <td>10.472641</td>\n",
       "    </tr>\n",
       "    <tr>\n",
       "      <th>3</th>\n",
       "      <td>1631426400000</td>\n",
       "      <td>45395.7</td>\n",
       "      <td>45415.0</td>\n",
       "      <td>45137.1</td>\n",
       "      <td>45190.3</td>\n",
       "      <td>11.760966</td>\n",
       "    </tr>\n",
       "    <tr>\n",
       "      <th>4</th>\n",
       "      <td>1631430000000</td>\n",
       "      <td>45190.2</td>\n",
       "      <td>45368.7</td>\n",
       "      <td>45089.2</td>\n",
       "      <td>45363.4</td>\n",
       "      <td>22.654320</td>\n",
       "    </tr>\n",
       "  </tbody>\n",
       "</table>\n",
       "</div>"
      ],
      "text/plain": [
       "   UTC timestamp     open     high      low    close     volume\n",
       "0  1631415600000  45299.0  45323.8  45226.3  45311.1  13.764573\n",
       "1  1631419200000  45311.1  45489.8  45239.3  45342.4  20.250714\n",
       "2  1631422800000  45343.3  45490.0  45248.4  45395.8  10.472641\n",
       "3  1631426400000  45395.7  45415.0  45137.1  45190.3  11.760966\n",
       "4  1631430000000  45190.2  45368.7  45089.2  45363.4  22.654320"
      ]
     },
     "execution_count": 252,
     "metadata": {},
     "output_type": "execute_result"
    }
   ],
   "source": [
    "from get_data import get_ohlcv_series\n",
    "import pandas as pd\n",
    "from ta import add_all_ta_features\n",
    "from ta.utils import dropna\n",
    "\n",
    "from darts import TimeSeries\n",
    "from darts.utils.timeseries_generation import gaussian_timeseries, linear_timeseries, sine_timeseries\n",
    "from darts.models import RNNModel, TCNModel, TransformerModel, NBEATSModel, BlockRNNModel\n",
    "from darts.metrics import mape, smape, mase\n",
    "from darts.dataprocessing.transformers import Scaler, BoxCox\n",
    "from darts.utils.timeseries_generation import datetime_attribute_timeseries\n",
    "from darts.datasets import AirPassengersDataset, MonthlyMilkDataset\n",
    "from darts.models import KalmanFilter\n",
    "from darts.models.forecasting.gradient_boosted_model import LightGBMModel\n",
    "from darts.dataprocessing.transformers.missing_values_filler import MissingValuesFiller\n",
    "import json\n",
    "# if __name__ == '__main__':\n",
    "symbol = \"BTC-USD\"\n",
    "df = pd.read_csv(f\"{symbol}.csv\", index_col=0, parse_dates=True)\n",
    "print(df.describe())\n",
    "df.head()\n",
    "# todo kalman before features? Have to do df -> timeseries -> df -> apply feats -> timeseries"
   ]
  },
  {
   "cell_type": "code",
   "execution_count": 253,
   "id": "22c9fde1-3e48-4548-8e47-11dc5fb43048",
   "metadata": {},
   "outputs": [],
   "source": [
    "def get_ta(df):\n",
    "    # Add all ta features\n",
    "    df_ta = add_all_ta_features(df, open=\"open\", high=\"high\", low=\"low\", close=\"close\", volume=\"volume\")\n",
    "    # df = dropna(df)\n",
    "    df_ta = df_ta.drop('UTC timestamp','columns')\n",
    "\n",
    "    # Scale feats\n",
    "    ts_ta = TimeSeries.from_dataframe(df_ta,fill_missing_dates=True) #time_col=\"UTC timestamp\")\n",
    "    # scaler = Scaler()\n",
    "    # scaled_covars = scaler.fit_transform(ts_ta)\n",
    "    # scaled_covars.plot()\n",
    "    print(df_ta.columns)\n",
    "\n",
    "    return ts_ta\n",
    "\n",
    "# Scale covars\n",
    "def get_return_lags(df):\n",
    "    # Create the lagged percentage returns columns\n",
    "    lag_names = []\n",
    "    for i in [1,2,3,5,8,13,21,42]:\n",
    "        col_name = f\"lag_return_{i}\"\n",
    "        lag_names.append(col_name)\n",
    "        df[col_name] = df[\"close\"].pct_change(periods=i)\n",
    "        # df[col_name] = df[\"close\"].shift(periods=i)\n",
    "\n",
    "    \n",
    "    covars = TimeSeries.from_dataframe(df, value_cols=lag_names, fill_missing_dates=True)#,time_col=\"UTC timestamp\")\n",
    "    # scaler = Scaler()\n",
    "    # scaled_covars = scaler.fit_transform(covars)\n",
    "    # scaled_covars.plot()\n",
    "    return covars"
   ]
  },
  {
   "cell_type": "code",
   "execution_count": 254,
   "id": "ddc9906d-54bd-4f9f-b2c0-0ce7602b899f",
   "metadata": {},
   "outputs": [
    {
     "name": "stdout",
     "output_type": "stream",
     "text": [
      "Index(['open', 'high', 'low', 'close', 'volume', 'lag_return_1',\n",
      "       'lag_return_2', 'lag_return_3', 'lag_return_5', 'lag_return_8',\n",
      "       'lag_return_13', 'lag_return_21', 'lag_return_42', 'volume_adi',\n",
      "       'volume_obv', 'volume_cmf', 'volume_fi', 'volume_mfi', 'volume_em',\n",
      "       'volume_sma_em', 'volume_vpt', 'volume_nvi', 'volume_vwap',\n",
      "       'volatility_atr', 'volatility_bbm', 'volatility_bbh', 'volatility_bbl',\n",
      "       'volatility_bbw', 'volatility_bbp', 'volatility_bbhi',\n",
      "       'volatility_bbli', 'volatility_kcc', 'volatility_kch', 'volatility_kcl',\n",
      "       'volatility_kcw', 'volatility_kcp', 'volatility_kchi',\n",
      "       'volatility_kcli', 'volatility_dcl', 'volatility_dch', 'volatility_dcm',\n",
      "       'volatility_dcw', 'volatility_dcp', 'volatility_ui', 'trend_macd',\n",
      "       'trend_macd_signal', 'trend_macd_diff', 'trend_sma_fast',\n",
      "       'trend_sma_slow', 'trend_ema_fast', 'trend_ema_slow', 'trend_adx',\n",
      "       'trend_adx_pos', 'trend_adx_neg', 'trend_vortex_ind_pos',\n",
      "       'trend_vortex_ind_neg', 'trend_vortex_ind_diff', 'trend_trix',\n",
      "       'trend_mass_index', 'trend_cci', 'trend_dpo', 'trend_kst',\n",
      "       'trend_kst_sig', 'trend_kst_diff', 'trend_ichimoku_conv',\n",
      "       'trend_ichimoku_base', 'trend_ichimoku_a', 'trend_ichimoku_b',\n",
      "       'trend_visual_ichimoku_a', 'trend_visual_ichimoku_b', 'trend_aroon_up',\n",
      "       'trend_aroon_down', 'trend_aroon_ind', 'trend_psar_up',\n",
      "       'trend_psar_down', 'trend_psar_up_indicator',\n",
      "       'trend_psar_down_indicator', 'trend_stc', 'momentum_rsi',\n",
      "       'momentum_stoch_rsi', 'momentum_stoch_rsi_k', 'momentum_stoch_rsi_d',\n",
      "       'momentum_tsi', 'momentum_uo', 'momentum_stoch',\n",
      "       'momentum_stoch_signal', 'momentum_wr', 'momentum_ao', 'momentum_kama',\n",
      "       'momentum_roc', 'momentum_ppo', 'momentum_ppo_signal',\n",
      "       'momentum_ppo_hist', 'others_dr', 'others_dlr', 'others_cr'],\n",
      "      dtype='object')\n"
     ]
    },
    {
     "name": "stderr",
     "output_type": "stream",
     "text": [
      "/Users/michaelremington/opt/anaconda3/envs/stonk-pix-ai/lib/python3.8/site-packages/ta/trend.py:768: RuntimeWarning: invalid value encountered in double_scalars\n",
      "  dip[i] = 100 * (self._dip[i] / self._trs[i])\n",
      "/Users/michaelremington/opt/anaconda3/envs/stonk-pix-ai/lib/python3.8/site-packages/ta/trend.py:772: RuntimeWarning: invalid value encountered in double_scalars\n",
      "  din[i] = 100 * (self._din[i] / self._trs[i])\n"
     ]
    }
   ],
   "source": [
    "# Also adds features to df\n",
    "scaled_covars = get_return_lags(df)\n",
    "scaled_covars = get_ta(df)"
   ]
  },
  {
   "cell_type": "code",
   "execution_count": 255,
   "id": "85a80c0a-5c23-450a-af29-24278e50697b",
   "metadata": {},
   "outputs": [
    {
     "data": {
      "text/html": [
       "<div>\n",
       "<style scoped>\n",
       "    .dataframe tbody tr th:only-of-type {\n",
       "        vertical-align: middle;\n",
       "    }\n",
       "\n",
       "    .dataframe tbody tr th {\n",
       "        vertical-align: top;\n",
       "    }\n",
       "\n",
       "    .dataframe thead th {\n",
       "        text-align: right;\n",
       "    }\n",
       "</style>\n",
       "<table border=\"1\" class=\"dataframe\">\n",
       "  <thead>\n",
       "    <tr style=\"text-align: right;\">\n",
       "      <th>component</th>\n",
       "      <th>open</th>\n",
       "      <th>high</th>\n",
       "      <th>low</th>\n",
       "      <th>close</th>\n",
       "      <th>volume</th>\n",
       "      <th>lag_return_1</th>\n",
       "      <th>lag_return_2</th>\n",
       "      <th>lag_return_3</th>\n",
       "      <th>lag_return_5</th>\n",
       "      <th>lag_return_8</th>\n",
       "      <th>...</th>\n",
       "      <th>momentum_wr</th>\n",
       "      <th>momentum_ao</th>\n",
       "      <th>momentum_kama</th>\n",
       "      <th>momentum_roc</th>\n",
       "      <th>momentum_ppo</th>\n",
       "      <th>momentum_ppo_signal</th>\n",
       "      <th>momentum_ppo_hist</th>\n",
       "      <th>others_dr</th>\n",
       "      <th>others_dlr</th>\n",
       "      <th>others_cr</th>\n",
       "    </tr>\n",
       "  </thead>\n",
       "  <tbody>\n",
       "    <tr>\n",
       "      <th>count</th>\n",
       "      <td>720.000000</td>\n",
       "      <td>720.000000</td>\n",
       "      <td>720.000000</td>\n",
       "      <td>720.000000</td>\n",
       "      <td>720.000000</td>\n",
       "      <td>719.000000</td>\n",
       "      <td>718.000000</td>\n",
       "      <td>717.000000</td>\n",
       "      <td>715.000000</td>\n",
       "      <td>712.000000</td>\n",
       "      <td>...</td>\n",
       "      <td>707.000000</td>\n",
       "      <td>687.000000</td>\n",
       "      <td>711.000000</td>\n",
       "      <td>708.000000</td>\n",
       "      <td>695.000000</td>\n",
       "      <td>687.000000</td>\n",
       "      <td>687.000000</td>\n",
       "      <td>720.000000</td>\n",
       "      <td>719.000000</td>\n",
       "      <td>720.000000</td>\n",
       "    </tr>\n",
       "    <tr>\n",
       "      <th>mean</th>\n",
       "      <td>47275.102917</td>\n",
       "      <td>47512.128750</td>\n",
       "      <td>47044.588611</td>\n",
       "      <td>47290.734583</td>\n",
       "      <td>124.471403</td>\n",
       "      <td>0.000343</td>\n",
       "      <td>0.000690</td>\n",
       "      <td>0.001031</td>\n",
       "      <td>0.001747</td>\n",
       "      <td>0.002758</td>\n",
       "      <td>...</td>\n",
       "      <td>-42.866815</td>\n",
       "      <td>243.801273</td>\n",
       "      <td>47244.729631</td>\n",
       "      <td>0.412819</td>\n",
       "      <td>-2.622604</td>\n",
       "      <td>-2.782655</td>\n",
       "      <td>-0.119116</td>\n",
       "      <td>0.028478</td>\n",
       "      <td>0.031430</td>\n",
       "      <td>4.368984</td>\n",
       "    </tr>\n",
       "    <tr>\n",
       "      <th>std</th>\n",
       "      <td>4474.176712</td>\n",
       "      <td>4473.832542</td>\n",
       "      <td>4489.514015</td>\n",
       "      <td>4487.327318</td>\n",
       "      <td>179.623526</td>\n",
       "      <td>0.007627</td>\n",
       "      <td>0.010460</td>\n",
       "      <td>0.012550</td>\n",
       "      <td>0.016163</td>\n",
       "      <td>0.020250</td>\n",
       "      <td>...</td>\n",
       "      <td>27.766888</td>\n",
       "      <td>971.843779</td>\n",
       "      <td>4401.491256</td>\n",
       "      <td>2.462846</td>\n",
       "      <td>19.091320</td>\n",
       "      <td>15.267664</td>\n",
       "      <td>10.239921</td>\n",
       "      <td>0.778195</td>\n",
       "      <td>0.762658</td>\n",
       "      <td>9.903373</td>\n",
       "    </tr>\n",
       "    <tr>\n",
       "      <th>min</th>\n",
       "      <td>40499.900000</td>\n",
       "      <td>41051.100000</td>\n",
       "      <td>39579.000000</td>\n",
       "      <td>40499.900000</td>\n",
       "      <td>8.418664</td>\n",
       "      <td>-0.047894</td>\n",
       "      <td>-0.055061</td>\n",
       "      <td>-0.065385</td>\n",
       "      <td>-0.083475</td>\n",
       "      <td>-0.071475</td>\n",
       "      <td>...</td>\n",
       "      <td>-100.000000</td>\n",
       "      <td>-2752.405294</td>\n",
       "      <td>41488.792562</td>\n",
       "      <td>-7.953141</td>\n",
       "      <td>-48.910730</td>\n",
       "      <td>-37.351297</td>\n",
       "      <td>-18.449559</td>\n",
       "      <td>-4.789444</td>\n",
       "      <td>-4.907937</td>\n",
       "      <td>-10.618149</td>\n",
       "    </tr>\n",
       "    <tr>\n",
       "      <th>25%</th>\n",
       "      <td>43393.375000</td>\n",
       "      <td>43687.750000</td>\n",
       "      <td>43149.150000</td>\n",
       "      <td>43392.100000</td>\n",
       "      <td>45.444360</td>\n",
       "      <td>-0.003226</td>\n",
       "      <td>-0.004397</td>\n",
       "      <td>-0.005353</td>\n",
       "      <td>-0.006672</td>\n",
       "      <td>-0.008354</td>\n",
       "      <td>...</td>\n",
       "      <td>-67.847337</td>\n",
       "      <td>-300.015441</td>\n",
       "      <td>43297.892759</td>\n",
       "      <td>-0.925998</td>\n",
       "      <td>-15.762489</td>\n",
       "      <td>-13.432125</td>\n",
       "      <td>-7.105500</td>\n",
       "      <td>-0.324201</td>\n",
       "      <td>-0.323094</td>\n",
       "      <td>-4.235165</td>\n",
       "    </tr>\n",
       "    <tr>\n",
       "      <th>50%</th>\n",
       "      <td>47198.250000</td>\n",
       "      <td>47401.000000</td>\n",
       "      <td>47001.500000</td>\n",
       "      <td>47214.350000</td>\n",
       "      <td>77.098601</td>\n",
       "      <td>0.000141</td>\n",
       "      <td>0.000243</td>\n",
       "      <td>0.000160</td>\n",
       "      <td>0.000673</td>\n",
       "      <td>0.001119</td>\n",
       "      <td>...</td>\n",
       "      <td>-37.148615</td>\n",
       "      <td>216.794706</td>\n",
       "      <td>47341.903554</td>\n",
       "      <td>0.385368</td>\n",
       "      <td>-3.023265</td>\n",
       "      <td>-2.204748</td>\n",
       "      <td>-1.545698</td>\n",
       "      <td>0.014110</td>\n",
       "      <td>0.014111</td>\n",
       "      <td>4.200406</td>\n",
       "    </tr>\n",
       "    <tr>\n",
       "      <th>75%</th>\n",
       "      <td>48773.600000</td>\n",
       "      <td>48977.300000</td>\n",
       "      <td>48565.050000</td>\n",
       "      <td>48838.600000</td>\n",
       "      <td>142.256810</td>\n",
       "      <td>0.003761</td>\n",
       "      <td>0.005094</td>\n",
       "      <td>0.006037</td>\n",
       "      <td>0.008948</td>\n",
       "      <td>0.013271</td>\n",
       "      <td>...</td>\n",
       "      <td>-18.903990</td>\n",
       "      <td>837.621765</td>\n",
       "      <td>48433.629544</td>\n",
       "      <td>1.773342</td>\n",
       "      <td>8.954388</td>\n",
       "      <td>6.565045</td>\n",
       "      <td>4.861717</td>\n",
       "      <td>0.375166</td>\n",
       "      <td>0.375347</td>\n",
       "      <td>7.785068</td>\n",
       "    </tr>\n",
       "    <tr>\n",
       "      <th>max</th>\n",
       "      <td>57501.600000</td>\n",
       "      <td>57837.700000</td>\n",
       "      <td>57358.200000</td>\n",
       "      <td>57499.900000</td>\n",
       "      <td>2619.579706</td>\n",
       "      <td>0.048991</td>\n",
       "      <td>0.057902</td>\n",
       "      <td>0.061269</td>\n",
       "      <td>0.079445</td>\n",
       "      <td>0.088551</td>\n",
       "      <td>...</td>\n",
       "      <td>-0.000000</td>\n",
       "      <td>3103.303824</td>\n",
       "      <td>56977.924738</td>\n",
       "      <td>9.117276</td>\n",
       "      <td>64.434878</td>\n",
       "      <td>37.840395</td>\n",
       "      <td>44.782317</td>\n",
       "      <td>4.899109</td>\n",
       "      <td>4.782884</td>\n",
       "      <td>26.900252</td>\n",
       "    </tr>\n",
       "  </tbody>\n",
       "</table>\n",
       "<p>8 rows × 96 columns</p>\n",
       "</div>"
      ],
      "text/plain": [
       "component          open          high           low         close  \\\n",
       "count        720.000000    720.000000    720.000000    720.000000   \n",
       "mean       47275.102917  47512.128750  47044.588611  47290.734583   \n",
       "std         4474.176712   4473.832542   4489.514015   4487.327318   \n",
       "min        40499.900000  41051.100000  39579.000000  40499.900000   \n",
       "25%        43393.375000  43687.750000  43149.150000  43392.100000   \n",
       "50%        47198.250000  47401.000000  47001.500000  47214.350000   \n",
       "75%        48773.600000  48977.300000  48565.050000  48838.600000   \n",
       "max        57501.600000  57837.700000  57358.200000  57499.900000   \n",
       "\n",
       "component       volume  lag_return_1  lag_return_2  lag_return_3  \\\n",
       "count       720.000000    719.000000    718.000000    717.000000   \n",
       "mean        124.471403      0.000343      0.000690      0.001031   \n",
       "std         179.623526      0.007627      0.010460      0.012550   \n",
       "min           8.418664     -0.047894     -0.055061     -0.065385   \n",
       "25%          45.444360     -0.003226     -0.004397     -0.005353   \n",
       "50%          77.098601      0.000141      0.000243      0.000160   \n",
       "75%         142.256810      0.003761      0.005094      0.006037   \n",
       "max        2619.579706      0.048991      0.057902      0.061269   \n",
       "\n",
       "component  lag_return_5  lag_return_8  ...  momentum_wr  momentum_ao  \\\n",
       "count        715.000000    712.000000  ...   707.000000   687.000000   \n",
       "mean           0.001747      0.002758  ...   -42.866815   243.801273   \n",
       "std            0.016163      0.020250  ...    27.766888   971.843779   \n",
       "min           -0.083475     -0.071475  ...  -100.000000 -2752.405294   \n",
       "25%           -0.006672     -0.008354  ...   -67.847337  -300.015441   \n",
       "50%            0.000673      0.001119  ...   -37.148615   216.794706   \n",
       "75%            0.008948      0.013271  ...   -18.903990   837.621765   \n",
       "max            0.079445      0.088551  ...    -0.000000  3103.303824   \n",
       "\n",
       "component  momentum_kama  momentum_roc  momentum_ppo  momentum_ppo_signal  \\\n",
       "count         711.000000    708.000000    695.000000           687.000000   \n",
       "mean        47244.729631      0.412819     -2.622604            -2.782655   \n",
       "std          4401.491256      2.462846     19.091320            15.267664   \n",
       "min         41488.792562     -7.953141    -48.910730           -37.351297   \n",
       "25%         43297.892759     -0.925998    -15.762489           -13.432125   \n",
       "50%         47341.903554      0.385368     -3.023265            -2.204748   \n",
       "75%         48433.629544      1.773342      8.954388             6.565045   \n",
       "max         56977.924738      9.117276     64.434878            37.840395   \n",
       "\n",
       "component  momentum_ppo_hist   others_dr  others_dlr   others_cr  \n",
       "count             687.000000  720.000000  719.000000  720.000000  \n",
       "mean               -0.119116    0.028478    0.031430    4.368984  \n",
       "std                10.239921    0.778195    0.762658    9.903373  \n",
       "min               -18.449559   -4.789444   -4.907937  -10.618149  \n",
       "25%                -7.105500   -0.324201   -0.323094   -4.235165  \n",
       "50%                -1.545698    0.014110    0.014111    4.200406  \n",
       "75%                 4.861717    0.375166    0.375347    7.785068  \n",
       "max                44.782317    4.899109    4.782884   26.900252  \n",
       "\n",
       "[8 rows x 96 columns]"
      ]
     },
     "execution_count": 255,
     "metadata": {},
     "output_type": "execute_result"
    }
   ],
   "source": [
    "scaled_covars.describe()"
   ]
  },
  {
   "cell_type": "code",
   "execution_count": 256,
   "id": "baeeb51b-1488-457c-b5f9-f3f1763cee9e",
   "metadata": {},
   "outputs": [
    {
     "data": {
      "text/html": [
       "<div>\n",
       "<style scoped>\n",
       "    .dataframe tbody tr th:only-of-type {\n",
       "        vertical-align: middle;\n",
       "    }\n",
       "\n",
       "    .dataframe tbody tr th {\n",
       "        vertical-align: top;\n",
       "    }\n",
       "\n",
       "    .dataframe thead th {\n",
       "        text-align: right;\n",
       "    }\n",
       "</style>\n",
       "<table border=\"1\" class=\"dataframe\">\n",
       "  <thead>\n",
       "    <tr style=\"text-align: right;\">\n",
       "      <th>component</th>\n",
       "      <th>open</th>\n",
       "      <th>high</th>\n",
       "      <th>low</th>\n",
       "      <th>close</th>\n",
       "      <th>volume</th>\n",
       "      <th>lag_return_1</th>\n",
       "      <th>lag_return_2</th>\n",
       "      <th>lag_return_3</th>\n",
       "      <th>lag_return_5</th>\n",
       "      <th>lag_return_8</th>\n",
       "      <th>...</th>\n",
       "      <th>momentum_wr</th>\n",
       "      <th>momentum_ao</th>\n",
       "      <th>momentum_kama</th>\n",
       "      <th>momentum_roc</th>\n",
       "      <th>momentum_ppo</th>\n",
       "      <th>momentum_ppo_signal</th>\n",
       "      <th>momentum_ppo_hist</th>\n",
       "      <th>others_dr</th>\n",
       "      <th>others_dlr</th>\n",
       "      <th>others_cr</th>\n",
       "    </tr>\n",
       "  </thead>\n",
       "  <tbody>\n",
       "    <tr>\n",
       "      <th>count</th>\n",
       "      <td>720.000000</td>\n",
       "      <td>720.000000</td>\n",
       "      <td>720.000000</td>\n",
       "      <td>720.000000</td>\n",
       "      <td>720.000000</td>\n",
       "      <td>720.000000</td>\n",
       "      <td>720.000000</td>\n",
       "      <td>720.000000</td>\n",
       "      <td>720.000000</td>\n",
       "      <td>720.000000</td>\n",
       "      <td>...</td>\n",
       "      <td>720.000000</td>\n",
       "      <td>720.000000</td>\n",
       "      <td>720.000000</td>\n",
       "      <td>720.000000</td>\n",
       "      <td>720.000000</td>\n",
       "      <td>720.000000</td>\n",
       "      <td>720.000000</td>\n",
       "      <td>720.000000</td>\n",
       "      <td>720.000000</td>\n",
       "      <td>720.000000</td>\n",
       "    </tr>\n",
       "    <tr>\n",
       "      <th>mean</th>\n",
       "      <td>0.398501</td>\n",
       "      <td>0.384892</td>\n",
       "      <td>0.419906</td>\n",
       "      <td>0.399461</td>\n",
       "      <td>0.044445</td>\n",
       "      <td>0.497890</td>\n",
       "      <td>0.493560</td>\n",
       "      <td>0.524266</td>\n",
       "      <td>0.523764</td>\n",
       "      <td>0.464850</td>\n",
       "      <td>...</td>\n",
       "      <td>0.573124</td>\n",
       "      <td>0.503421</td>\n",
       "      <td>0.370616</td>\n",
       "      <td>0.491019</td>\n",
       "      <td>0.418958</td>\n",
       "      <td>0.472825</td>\n",
       "      <td>0.285970</td>\n",
       "      <td>0.497280</td>\n",
       "      <td>0.509701</td>\n",
       "      <td>0.399461</td>\n",
       "    </tr>\n",
       "    <tr>\n",
       "      <th>std</th>\n",
       "      <td>0.263161</td>\n",
       "      <td>0.266512</td>\n",
       "      <td>0.252515</td>\n",
       "      <td>0.263960</td>\n",
       "      <td>0.068791</td>\n",
       "      <td>0.078663</td>\n",
       "      <td>0.092467</td>\n",
       "      <td>0.098901</td>\n",
       "      <td>0.099197</td>\n",
       "      <td>0.126173</td>\n",
       "      <td>...</td>\n",
       "      <td>0.275465</td>\n",
       "      <td>0.166432</td>\n",
       "      <td>0.282521</td>\n",
       "      <td>0.143247</td>\n",
       "      <td>0.174638</td>\n",
       "      <td>0.207139</td>\n",
       "      <td>0.159193</td>\n",
       "      <td>0.080321</td>\n",
       "      <td>0.078644</td>\n",
       "      <td>0.263960</td>\n",
       "    </tr>\n",
       "    <tr>\n",
       "      <th>min</th>\n",
       "      <td>0.000000</td>\n",
       "      <td>0.000000</td>\n",
       "      <td>0.000000</td>\n",
       "      <td>0.000000</td>\n",
       "      <td>0.000000</td>\n",
       "      <td>0.000000</td>\n",
       "      <td>0.000000</td>\n",
       "      <td>0.000000</td>\n",
       "      <td>0.000000</td>\n",
       "      <td>0.000000</td>\n",
       "      <td>...</td>\n",
       "      <td>0.000000</td>\n",
       "      <td>0.000000</td>\n",
       "      <td>0.000000</td>\n",
       "      <td>0.000000</td>\n",
       "      <td>0.000000</td>\n",
       "      <td>0.000000</td>\n",
       "      <td>0.000000</td>\n",
       "      <td>0.000000</td>\n",
       "      <td>0.000000</td>\n",
       "      <td>0.000000</td>\n",
       "    </tr>\n",
       "    <tr>\n",
       "      <th>25%</th>\n",
       "      <td>0.170187</td>\n",
       "      <td>0.157069</td>\n",
       "      <td>0.200805</td>\n",
       "      <td>0.170129</td>\n",
       "      <td>0.014180</td>\n",
       "      <td>0.461108</td>\n",
       "      <td>0.448599</td>\n",
       "      <td>0.474619</td>\n",
       "      <td>0.471692</td>\n",
       "      <td>0.396294</td>\n",
       "      <td>...</td>\n",
       "      <td>0.324558</td>\n",
       "      <td>0.402698</td>\n",
       "      <td>0.117980</td>\n",
       "      <td>0.414751</td>\n",
       "      <td>0.293829</td>\n",
       "      <td>0.329548</td>\n",
       "      <td>0.183445</td>\n",
       "      <td>0.460878</td>\n",
       "      <td>0.473173</td>\n",
       "      <td>0.170129</td>\n",
       "    </tr>\n",
       "    <tr>\n",
       "      <th>50%</th>\n",
       "      <td>0.393981</td>\n",
       "      <td>0.378272</td>\n",
       "      <td>0.417482</td>\n",
       "      <td>0.394968</td>\n",
       "      <td>0.026302</td>\n",
       "      <td>0.495924</td>\n",
       "      <td>0.489954</td>\n",
       "      <td>0.517317</td>\n",
       "      <td>0.517104</td>\n",
       "      <td>0.454370</td>\n",
       "      <td>...</td>\n",
       "      <td>0.638251</td>\n",
       "      <td>0.499443</td>\n",
       "      <td>0.359369</td>\n",
       "      <td>0.491876</td>\n",
       "      <td>0.410870</td>\n",
       "      <td>0.476105</td>\n",
       "      <td>0.255458</td>\n",
       "      <td>0.495797</td>\n",
       "      <td>0.508035</td>\n",
       "      <td>0.394968</td>\n",
       "    </tr>\n",
       "    <tr>\n",
       "      <th>75%</th>\n",
       "      <td>0.486640</td>\n",
       "      <td>0.472174</td>\n",
       "      <td>0.505425</td>\n",
       "      <td>0.490512</td>\n",
       "      <td>0.051256</td>\n",
       "      <td>0.533063</td>\n",
       "      <td>0.532402</td>\n",
       "      <td>0.563890</td>\n",
       "      <td>0.568813</td>\n",
       "      <td>0.531657</td>\n",
       "      <td>...</td>\n",
       "      <td>0.809265</td>\n",
       "      <td>0.608281</td>\n",
       "      <td>0.448064</td>\n",
       "      <td>0.567985</td>\n",
       "      <td>0.523935</td>\n",
       "      <td>0.604519</td>\n",
       "      <td>0.363859</td>\n",
       "      <td>0.533063</td>\n",
       "      <td>0.545093</td>\n",
       "      <td>0.490512</td>\n",
       "    </tr>\n",
       "    <tr>\n",
       "      <th>max</th>\n",
       "      <td>1.000000</td>\n",
       "      <td>1.000000</td>\n",
       "      <td>1.000000</td>\n",
       "      <td>1.000000</td>\n",
       "      <td>1.000000</td>\n",
       "      <td>1.000000</td>\n",
       "      <td>1.000000</td>\n",
       "      <td>1.000000</td>\n",
       "      <td>1.000000</td>\n",
       "      <td>1.000000</td>\n",
       "      <td>...</td>\n",
       "      <td>1.000000</td>\n",
       "      <td>1.000000</td>\n",
       "      <td>1.000000</td>\n",
       "      <td>1.000000</td>\n",
       "      <td>1.000000</td>\n",
       "      <td>1.000000</td>\n",
       "      <td>1.000000</td>\n",
       "      <td>1.000000</td>\n",
       "      <td>1.000000</td>\n",
       "      <td>1.000000</td>\n",
       "    </tr>\n",
       "  </tbody>\n",
       "</table>\n",
       "<p>8 rows × 96 columns</p>\n",
       "</div>"
      ],
      "text/plain": [
       "component        open        high         low       close      volume  \\\n",
       "count      720.000000  720.000000  720.000000  720.000000  720.000000   \n",
       "mean         0.398501    0.384892    0.419906    0.399461    0.044445   \n",
       "std          0.263161    0.266512    0.252515    0.263960    0.068791   \n",
       "min          0.000000    0.000000    0.000000    0.000000    0.000000   \n",
       "25%          0.170187    0.157069    0.200805    0.170129    0.014180   \n",
       "50%          0.393981    0.378272    0.417482    0.394968    0.026302   \n",
       "75%          0.486640    0.472174    0.505425    0.490512    0.051256   \n",
       "max          1.000000    1.000000    1.000000    1.000000    1.000000   \n",
       "\n",
       "component  lag_return_1  lag_return_2  lag_return_3  lag_return_5  \\\n",
       "count        720.000000    720.000000    720.000000    720.000000   \n",
       "mean           0.497890      0.493560      0.524266      0.523764   \n",
       "std            0.078663      0.092467      0.098901      0.099197   \n",
       "min            0.000000      0.000000      0.000000      0.000000   \n",
       "25%            0.461108      0.448599      0.474619      0.471692   \n",
       "50%            0.495924      0.489954      0.517317      0.517104   \n",
       "75%            0.533063      0.532402      0.563890      0.568813   \n",
       "max            1.000000      1.000000      1.000000      1.000000   \n",
       "\n",
       "component  lag_return_8  ...  momentum_wr  momentum_ao  momentum_kama  \\\n",
       "count        720.000000  ...   720.000000   720.000000     720.000000   \n",
       "mean           0.464850  ...     0.573124     0.503421       0.370616   \n",
       "std            0.126173  ...     0.275465     0.166432       0.282521   \n",
       "min            0.000000  ...     0.000000     0.000000       0.000000   \n",
       "25%            0.396294  ...     0.324558     0.402698       0.117980   \n",
       "50%            0.454370  ...     0.638251     0.499443       0.359369   \n",
       "75%            0.531657  ...     0.809265     0.608281       0.448064   \n",
       "max            1.000000  ...     1.000000     1.000000       1.000000   \n",
       "\n",
       "component  momentum_roc  momentum_ppo  momentum_ppo_signal  momentum_ppo_hist  \\\n",
       "count        720.000000    720.000000           720.000000         720.000000   \n",
       "mean           0.491019      0.418958             0.472825           0.285970   \n",
       "std            0.143247      0.174638             0.207139           0.159193   \n",
       "min            0.000000      0.000000             0.000000           0.000000   \n",
       "25%            0.414751      0.293829             0.329548           0.183445   \n",
       "50%            0.491876      0.410870             0.476105           0.255458   \n",
       "75%            0.567985      0.523935             0.604519           0.363859   \n",
       "max            1.000000      1.000000             1.000000           1.000000   \n",
       "\n",
       "component   others_dr  others_dlr   others_cr  \n",
       "count      720.000000  720.000000  720.000000  \n",
       "mean         0.497280    0.509701    0.399461  \n",
       "std          0.080321    0.078644    0.263960  \n",
       "min          0.000000    0.000000    0.000000  \n",
       "25%          0.460878    0.473173    0.170129  \n",
       "50%          0.495797    0.508035    0.394968  \n",
       "75%          0.533063    0.545093    0.490512  \n",
       "max          1.000000    1.000000    1.000000  \n",
       "\n",
       "[8 rows x 96 columns]"
      ]
     },
     "execution_count": 256,
     "metadata": {},
     "output_type": "execute_result"
    }
   ],
   "source": [
    "# Scale target\n",
    "# ts = TimeSeries.from_dataframe(df, time_col=\"UTC timestamp\", \n",
    "#                                # value_cols=[\"close\",\"open\",\"high\",\"low\",\"volume\",\"trend_ema_fast\",\"trend_ema_slow\",\"trend_macd_diff\",\"momentum_rsi\",\"volume_vwap\",\"momentum_kama\"],\n",
    "#                                # value_cols=['close'],\n",
    "#                                fill_missing_dates=True)\n",
    "ts = scaled_covars\n",
    "mvf = MissingValuesFiller()\n",
    "ts = mvf.transform(ts)\n",
    "scaler = Scaler()\n",
    "scaled = scaler.fit_transform(ts)\n",
    "scaled.describe()"
   ]
  },
  {
   "cell_type": "code",
   "execution_count": 257,
   "id": "9d879b7a-ad59-4df4-9326-8c82e73aee60",
   "metadata": {},
   "outputs": [],
   "source": [
    "target_var = 'close'\n",
    "target_var_idx = scaled.columns.get_loc(target_var)"
   ]
  },
  {
   "cell_type": "code",
   "execution_count": 258,
   "id": "a8e310b4-f21a-44ae-9326-a611c8f22db0",
   "metadata": {},
   "outputs": [
    {
     "data": {
      "image/png": "[encoded data removed]",
      "text/plain": [
       "<Figure size 432x288 with 1 Axes>"
      ]
     },
     "metadata": {
      "needs_background": "light"
     },
     "output_type": "display_data"
    }
   ],
   "source": [
    "split = int(len(scaled) * .1) # todo split param.\n",
    "train, val = scaled[:-split], scaled[-split:]\n",
    "train_covar, val_covar = scaled_covars[:-split], scaled_covars[-split:]\n",
    "train[target_var].plot(label='training')\n",
    "val[target_var].plot(label='validation')\n"
   ]
  },
  {
   "cell_type": "code",
   "execution_count": 259,
   "id": "04cd14b3-2eb5-495f-a8d9-62685c84d52a",
   "metadata": {},
   "outputs": [
    {
     "data": {
      "image/png": "[encoded data removed]",
      "text/plain": [
       "<Figure size 432x288 with 1 Axes>"
      ]
     },
     "metadata": {
      "needs_background": "light"
     },
     "output_type": "display_data"
    }
   ],
   "source": [
    "# Kalman Smoothing\n",
    "filtered = KalmanFilter(P=1000., R=50, Q=1).filter(train[target_var])\n",
    "train[target_var].plot(label='actual')\n",
    "filtered.univariate_component(0).plot(label=\"Filtered\")"
   ]
  },
  {
   "cell_type": "code",
   "execution_count": 260,
   "id": "dd5cd022-202f-4091-b739-dfbc7ed81be9",
   "metadata": {},
   "outputs": [
    {
     "name": "stderr",
     "output_type": "stream",
     "text": [
      "[2021-10-11 20:23:21,775] INFO | darts.models.forecasting.torch_forecasting_model | Train dataset contains 577 samples.\n",
      "[2021-10-11 20:23:21,775] INFO | darts.models.forecasting.torch_forecasting_model | Train dataset contains 577 samples.\n",
      "[2021-10-11 20:23:21,777] INFO | darts.models.forecasting.tcn_model | Number of layers chosen: 4\n",
      "[2021-10-11 20:23:21,777] INFO | darts.models.forecasting.tcn_model | Number of layers chosen: 4\n",
      "[2021-10-11 20:23:21,780] INFO | darts.models.forecasting.torch_forecasting_model | Time series values are 64-bits; casting model to float64. If training is too slow you can try casting your data to 32-bits.\n",
      "[2021-10-11 20:23:21,780] INFO | darts.models.forecasting.torch_forecasting_model | Time series values are 64-bits; casting model to float64. If training is too slow you can try casting your data to 32-bits.\n"
     ]
    },
    {
     "data": {
      "application/vnd.jupyter.widget-view+json": {
       "model_id": "e532c9507a044fcabf8d2202d9227749",
       "version_major": 2,
       "version_minor": 0
      },
      "text/plain": [
       "  0%|          | 0/30 [00:00<?, ?it/s]"
      ]
     },
     "metadata": {},
     "output_type": "display_data"
    },
    {
     "name": "stdout",
     "output_type": "stream",
     "text": [
      "Training loss: 0.0471, validation loss: 0.0688, best val loss: 0.0688\r"
     ]
    }
   ],
   "source": [
    "# Train\n",
    "model_cov = TCNModel(input_chunk_length=48, output_chunk_length=24, n_epochs=30, random_state=0,optimizer_kwargs={'lr':.001})\n",
    "# model_cov = TransformerModel(input_chunk_length=48, output_chunk_length=24, n_epochs=21, random_state=0,optimizer_kwargs={'lr':.001})\n",
    "# model_cov = RNNModel(model=\"GRU\",input_chunk_length=48, output_chunk_length=24, n_epochs=21, random_state=0,optimizer_kwargs={'lr':.001})\n",
    "# model_cov = LightGBMModel(lags=[-1,-2,-21,-34,-68,-3,-5,-8,-13])\n",
    "\n",
    "\n",
    "model_cov.fit(series=train, \n",
    "              val_series=val,\n",
    "              # past_covariates=train_covar, val_past_covariates=val_covar,\n",
    "              verbose=True)"
   ]
  },
  {
   "cell_type": "code",
   "execution_count": 261,
   "id": "08268820-189f-4326-a20b-ea799a1dd71b",
   "metadata": {},
   "outputs": [
    {
     "name": "stdout",
     "output_type": "stream",
     "text": [
      "MAPE = 16.24%\n",
      "sMAPE = 18.40%\n",
      "MASE = 10.70%\n"
     ]
    },
    {
     "data": {
      "image/png": "[encoded data removed]",
      "text/plain": [
       "<Figure size 432x288 with 1 Axes>"
      ]
     },
     "metadata": {
      "needs_background": "light"
     },
     "output_type": "display_data"
    }
   ],
   "source": [
    "pred_cov = model_cov.predict(n=len(val), \n",
    "                             series=train,\n",
    "                             # past_covariates=scaled_covars\n",
    "                             )\n",
    "scaled[target_var].plot(label='actual')\n",
    "pred_cov[target_var].plot(label='forecast',low_quantile=0.05, high_quantile=0.95)\n",
    "# plt.legend();\n",
    "# todo MAPE\n",
    "print('MAPE = {:.2f}%'.format(mape(scaled[target_var], pred_cov[target_var])))\n",
    "print('sMAPE = {:.2f}%'.format(smape(scaled[target_var], pred_cov[target_var])))\n",
    "print('MASE = {:.2f}%'.format(mase(scaled[target_var], pred_cov[target_var], insample=train[target_var])))"
   ]
  },
  {
   "cell_type": "code",
   "execution_count": 262,
   "id": "50cfa8ee-2637-4fbd-b956-34275b7aa551",
   "metadata": {},
   "outputs": [
    {
     "data": {
      "image/png": "[encoded data removed]",
      "text/plain": [
       "<Figure size 432x288 with 1 Axes>"
      ]
     },
     "metadata": {
      "needs_background": "light"
     },
     "output_type": "display_data"
    }
   ],
   "source": [
    "pred_cov = model_cov.predict(n=len(val), series=train,\n",
    "                             # past_covariates=scaled_covars\n",
    "                             )\n",
    "\n",
    "val[target_var].plot(label='actual')\n",
    "plt = pred_cov[target_var].plot(label='forecast')\n",
    "# plt.legend();"
   ]
  },
  {
   "cell_type": "code",
   "execution_count": 263,
   "id": "c3b56021-55ba-4df2-abd5-d3a6807f99c3",
   "metadata": {},
   "outputs": [
    {
     "data": {
      "application/vnd.jupyter.widget-view+json": {
       "model_id": "b7fbee0d6189468c8086ef54826de82a",
       "version_major": 2,
       "version_minor": 0
      },
      "text/plain": [
       "  0%|          | 0/61 [00:00<?, ?it/s]"
      ]
     },
     "metadata": {},
     "output_type": "display_data"
    },
    {
     "name": "stdout",
     "output_type": "stream",
     "text": [
      "MAPE (using covariates) = 6.05%\n",
      "sMAPE = 6.32%\n"
     ]
    },
    {
     "data": {
      "image/png": "[encoded data removed]",
      "text/plain": [
       "<Figure size 432x288 with 1 Axes>"
      ]
     },
     "metadata": {
      "needs_background": "light"
     },
     "output_type": "display_data"
    }
   ],
   "source": [
    "# historical_forecasts\n",
    "backtest_cov = model_cov.historical_forecasts(scaled,\n",
    "                                              # past_covariates=scaled_covars,\n",
    "                                              start=len(train),\n",
    "                                              forecast_horizon=12,\n",
    "                                              stride=1,\n",
    "                                              retrain=False,\n",
    "                                              verbose=True)\n",
    "\n",
    "scaled[target_var].plot(label='actual')\n",
    "# backtest_cov.plot(label='forecast')\n",
    "backtest_cov.univariate_component(target_var_idx).plot(label='forecast')\n",
    "# plt.legend();\n",
    "backtest_mape = mape(scaled[target_var], backtest_cov.univariate_component(target_var_idx))\n",
    "print('MAPE (using covariates) = {:.2f}%'.format(backtest_mape))\n",
    "print('sMAPE = {:.2f}%'.format(smape(scaled[target_var], backtest_cov.univariate_component(target_var_idx))))"
   ]
  },
  {
   "cell_type": "code",
   "execution_count": 264,
   "id": "5e38992c-6528-48c0-864f-abc43833b1b6",
   "metadata": {},
   "outputs": [
    {
     "data": {
      "application/vnd.jupyter.widget-view+json": {
       "model_id": "a945f505c90f46248b00dbd65f478d38",
       "version_major": 2,
       "version_minor": 0
      },
      "text/plain": [
       "  0%|          | 0/61 [00:00<?, ?it/s]"
      ]
     },
     "metadata": {},
     "output_type": "display_data"
    },
    {
     "name": "stdout",
     "output_type": "stream",
     "text": [
      "0.19370463646451114\n"
     ]
    }
   ],
   "source": [
    "from darts.metrics import coefficient_of_variation, mae, mse, r2_score, rmse\n",
    "# Backtest\n",
    "backtest_error = model_cov.backtest(scaled,\n",
    "                                              metric=mae,\n",
    "                                              start=len(train),\n",
    "                                              forecast_horizon=12,\n",
    "                                              stride=1,\n",
    "                                              retrain=False,\n",
    "                                              verbose=True)\n",
    "\n",
    "print(backtest_error)"
   ]
  },
  {
   "cell_type": "code",
   "execution_count": 265,
   "id": "dea46ef3-33ca-4a57-888b-302e2d46bd33",
   "metadata": {},
   "outputs": [
    {
     "name": "stderr",
     "output_type": "stream",
     "text": [
      "[2021-10-11 20:23:59,377] INFO | darts.models.forecasting.torch_forecasting_model | Train dataset contains 649 samples.\n",
      "[2021-10-11 20:23:59,377] INFO | darts.models.forecasting.torch_forecasting_model | Train dataset contains 649 samples.\n"
     ]
    },
    {
     "data": {
      "application/vnd.jupyter.widget-view+json": {
       "model_id": "07854944be8e4d54a6edeb3c7fe516cf",
       "version_major": 2,
       "version_minor": 0
      },
      "text/plain": [
       "  0%|          | 0/30 [00:00<?, ?it/s]"
      ]
     },
     "metadata": {},
     "output_type": "display_data"
    },
    {
     "name": "stdout",
     "output_type": "stream",
     "text": [
      "Training loss: 0.0345\r"
     ]
    },
    {
     "data": {
      "image/png": "[encoded data removed]",
      "text/plain": [
       "<Figure size 432x288 with 1 Axes>"
      ]
     },
     "metadata": {
      "needs_background": "light"
     },
     "output_type": "display_data"
    }
   ],
   "source": [
    "# Retrain on full series\n",
    "model_cov.fit(series=scaled, \n",
    "              # past_covariates=train_covar, val_past_covariates=val_covar,\n",
    "              verbose=True)\n",
    "\n",
    "\n",
    "# Predict future\n",
    "pred_cov = model_cov.predict(n=len(scaled)//10,\n",
    "                             # series=scaled,\n",
    "                             \n",
    "                             )\n",
    "scaled[target_var].plot(label='Past')\n",
    "pred_cov[target_var].plot(label='Forecast')\n",
    "# plt.legend()"
   ]
  },
  {
   "cell_type": "code",
   "execution_count": 266,
   "id": "3b8d1225-4463-4b63-bb69-648835450191",
   "metadata": {},
   "outputs": [
    {
     "data": {
      "image/png": "[encoded data removed]",
      "text/plain": [
       "<Figure size 432x288 with 1 Axes>"
      ]
     },
     "metadata": {
      "needs_background": "light"
     },
     "output_type": "display_data"
    }
   ],
   "source": [
    "# JSON out\n",
    "scaler.inverse_transform(scaled)[target_var].plot()\n",
    "scaler.inverse_transform(pred_cov)[target_var].plot()\n",
    "\n",
    "past_close = scaler.inverse_transform(scaled)[target_var].pd_dataframe()\n",
    "prediction = scaler.inverse_transform(pred_cov)[target_var].pd_dataframe()\n",
    "period = \"1h\"\n"
   ]
  },
  {
   "cell_type": "code",
   "execution_count": 268,
   "id": "de44e287-edc4-4e59-95fe-715534bc650a",
   "metadata": {},
   "outputs": [],
   "source": [
    "# Set index to Unix timestamps\n",
    "past_close.set_index(df['UTC timestamp'][:len(past_close)],inplace=True)\n",
    "\n",
    "# Write future timestamps to predictions\n",
    "timestamp_len_ms = past_close.index[1] - past_close.index[0]\n",
    "future_timestamps = []\n",
    "for i in range(1,len(prediction)+1):\n",
    "    timestamp = past_close.index[-1]+timestamp_len_ms*i\n",
    "    future_timestamps.append(timestamp)\n",
    "prediction.set_index(pd.Series(future_timestamps),inplace=True)\n",
    "prediction = prediction.round(2)\n"
   ]
  },
  {
   "cell_type": "code",
   "execution_count": 273,
   "id": "06206dc9-91f2-42ee-837b-9b56ec8d61bd",
   "metadata": {},
   "outputs": [],
   "source": [
    "return_dict = {\n",
    "    \"symbol\":symbol,\n",
    "    \"past\":json.loads(past_close.to_json()),\n",
    "    \"prediction\":json.loads(prediction.to_json()),\n",
    "    \"period\":period,\n",
    "    \"MAPE\":backtest_mape\n",
    "}\n",
    "\n",
    "json.dump(return_dict, open(f\"{symbol}.json\",'w'), indent=4)\n",
    "# print(json.dumps(return_dict, indent=4))"
   ]
  },
  {
   "cell_type": "code",
   "execution_count": 72,
   "id": "62256f8d-3026-43fe-ae26-8c2a589e5cfd",
   "metadata": {},
   "outputs": [
    {
     "data": {
      "text/plain": [
       "2"
      ]
     },
     "execution_count": 72,
     "metadata": {},
     "output_type": "execute_result"
    }
   ],
   "source": [
    "#tinydb\n",
    "from tinydb import TinyDB, Query\n",
    "db = TinyDB('db.json')\n",
    "table = db.table('forecasts')\n",
    "table.insert(return_dict)"
   ]
  },
  {
   "cell_type": "code",
   "execution_count": null,
   "id": "ad15143b-2294-4ff3-9a9f-8079a712d4a0",
   "metadata": {},
   "outputs": [],
   "source": [
    "# read json\n",
    "import json\n",
    "forecasts = []\n",
    "for s in ['BTC-USD','ETH-USD']:\n",
    "    read_json = json.load(open(f\"{s}.json\",'r'))\n",
    "    forecasts.append(read_json)\n",
    "    \n",
    "# print(json.dumps(read_json, indent=4))"
   ]
  },
  {
   "cell_type": "code",
   "execution_count": null,
   "id": "624edf52-bf5a-4dd2-a106-f13be0718f14",
   "metadata": {},
   "outputs": [],
   "source": [
    "# Start mongo if not running\n",
    "!docker run -p 27017:27017 -v $(pwd):/out --rm -d mongo"
   ]
  },
  {
   "cell_type": "code",
   "execution_count": 18,
   "id": "faf05538-3672-4e22-b823-89172318c3ef",
   "metadata": {},
   "outputs": [
    {
     "name": "stdout",
     "output_type": "stream",
     "text": [
      "BTC-USD\n",
      "ETH-USD\n",
      "dict_keys(['_id', 'symbol', 'past', 'prediction', 'period', 'MAPE'])\n",
      "dict_keys(['_id', 'symbol', 'past', 'prediction', 'period', 'MAPE'])\n"
     ]
    }
   ],
   "source": [
    "# Write forecasts to mongo\n",
    "import pymongo\n",
    "client = pymongo.MongoClient(\"localhost\", 27017)\n",
    "db = client.db_name\n",
    "\n",
    "for f in forecasts:\n",
    "    db.forecasts.delete_many({'symbol':f['symbol'],'period':f['period']})\n",
    "    db.forecasts.insert_one(f)\n",
    "\n",
    "cursor = db.forecasts.find({})\n",
    "for c in cursor:\n",
    "    print(c['symbol'])\n",
    "    \n",
    "cursor = db.forecasts.find()\n",
    "import pprint\n",
    "# pprint.pprint(cursor)\n",
    "for c in cursor:\n",
    "    pprint.pprint(c.keys())"
   ]
  },
  {
   "cell_type": "code",
   "execution_count": null,
   "id": "a91f273b-135f-4e37-a376-a850a3c1738a",
   "metadata": {},
   "outputs": [],
   "source": [
    "# Ensemble\n",
    "from darts.models.forecasting.regression_ensemble_model import RegressionEnsembleModel\n",
    "from darts.models.forecasting.baselines import NaiveEnsembleModel\n",
    "\n",
    "TCN = TCNModel(input_chunk_length=48, output_chunk_length=24, n_epochs=21, random_state=0,optimizer_kwargs={'lr':.001})\n",
    "RNN = RNNModel(model=\"GRU\",input_chunk_length=48, output_chunk_length=24, n_epochs=21, random_state=0,optimizer_kwargs={'lr':.001})\n",
    "# GBM = LightGBMModel(lags=[-1,-2,-21,-34,-68,-3,-5,-8,-13])\n",
    "\n",
    "\n",
    "ensemble = RegressionEnsembleModel([TCN,RNN],regression_train_n_points=4)\n",
    "# ensemble = NaiveEnsembleModel([TCN,RNN])\n",
    "\n",
    "ensemble.fit(train)"
   ]
  },
  {
   "cell_type": "code",
   "execution_count": null,
   "id": "22a94083-5b92-495e-baff-db1380825f6e",
   "metadata": {},
   "outputs": [],
   "source": [
    "pred_cov = ensemble.predict(n=len(train)//4, series=train,\n",
    "                             # past_covariates=scaled_covars\n",
    "                             )\n",
    "target_var = 'close'\n",
    "scaled[target_var].plot(label='actual')\n",
    "pred_cov[target_var].plot(label='forecast',low_quantile=0.05, high_quantile=0.95)\n",
    "# plt.legend();"
   ]
  },
  {
   "cell_type": "code",
   "execution_count": null,
   "id": "85ff3ff9-98db-48d8-a72b-6cdd9bc69a3c",
   "metadata": {},
   "outputs": [],
   "source": []
  }
 ],
 "metadata": {
  "kernelspec": {
   "display_name": "Python 3 (ipykernel)",
   "language": "python",
   "name": "python3"
  },
  "language_info": {
   "codemirror_mode": {
    "name": "ipython",
    "version": 3
   },
   "file_extension": ".py",
   "mimetype": "text/x-python",
   "name": "python",
   "nbconvert_exporter": "python",
   "pygments_lexer": "ipython3",
   "version": "3.8.12"
  }
 },
 "nbformat": 4,
 "nbformat_minor": 5
}
